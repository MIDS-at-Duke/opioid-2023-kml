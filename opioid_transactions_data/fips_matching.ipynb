{
 "cells": [
  {
   "cell_type": "code",
   "execution_count": 1,
   "metadata": {},
   "outputs": [],
   "source": [
    "import pandas as pd\n",
    "pd.set_option('display.max_columns', None)\n",
    "pd.set_option('display.max_rows', None)"
   ]
  },
  {
   "cell_type": "code",
   "execution_count": 2,
   "metadata": {},
   "outputs": [],
   "source": [
    "# Define state\n",
    "state_name = 'ohio'"
   ]
  },
  {
   "cell_type": "code",
   "execution_count": 3,
   "metadata": {},
   "outputs": [],
   "source": [
    "# Step 1: Read the CSV file\n",
    "fips_file_path = 'fips_codes/fips_' + state_name + '.csv'\n",
    "fips_df = pd.read_csv(fips_file_path, header=None, names=['FIPS', 'BUYER_COUNTY'])\n",
    "\n",
    "# Cleaning and converting county names to uppercase to match with the other dataset\n",
    "fips_df['BUYER_COUNTY'] = fips_df['BUYER_COUNTY'].str.replace(' County', '').str.upper()\n",
    "\n",
    "# Step 2: Read the Parquet file\n",
    "data_file_path = '04_MME_WOFIPS/' + state_name + '.parquet'\n",
    "parquet_df = pd.read_parquet(data_file_path)\n",
    "\n",
    "# Convert county names in parquet file to uppercase\n",
    "# Replace 'County' with the actual column name if it's different\n",
    "parquet_df['BUYER_COUNTY'] = parquet_df['BUYER_COUNTY'].str.upper().str.replace(' COUNTY', '')\n",
    "\n",
    "# Step 3: Merge the datasets\n",
    "merged_df = pd.merge(parquet_df, fips_df, on='BUYER_COUNTY', how='left')\n",
    "\n",
    "# Step 4: Save the merged dataset back to a Parquet file\n",
    "final_path = '05_MME_Final/' + state_name + '.parquet'\n",
    "merged_df.to_parquet(final_path)\n",
    "\n"
   ]
  },
  {
   "cell_type": "code",
   "execution_count": 4,
   "metadata": {},
   "outputs": [
    {
     "data": {
      "text/html": [
       "<div>\n",
       "<style scoped>\n",
       "    .dataframe tbody tr th:only-of-type {\n",
       "        vertical-align: middle;\n",
       "    }\n",
       "\n",
       "    .dataframe tbody tr th {\n",
       "        vertical-align: top;\n",
       "    }\n",
       "\n",
       "    .dataframe thead th {\n",
       "        text-align: right;\n",
       "    }\n",
       "</style>\n",
       "<table border=\"1\" class=\"dataframe\">\n",
       "  <thead>\n",
       "    <tr style=\"text-align: right;\">\n",
       "      <th></th>\n",
       "      <th>BUYER_STATE</th>\n",
       "      <th>BUYER_COUNTY</th>\n",
       "      <th>TransactionYear</th>\n",
       "      <th>MME_Conversion_Factor</th>\n",
       "      <th>CALC_BASE_WT_IN_GM</th>\n",
       "      <th>morphine_equivalent_g</th>\n",
       "      <th>FIPS</th>\n",
       "    </tr>\n",
       "  </thead>\n",
       "  <tbody>\n",
       "  </tbody>\n",
       "</table>\n",
       "</div>"
      ],
      "text/plain": [
       "Empty DataFrame\n",
       "Columns: [BUYER_STATE, BUYER_COUNTY, TransactionYear, MME_Conversion_Factor, CALC_BASE_WT_IN_GM, morphine_equivalent_g, FIPS]\n",
       "Index: []"
      ]
     },
     "execution_count": 4,
     "metadata": {},
     "output_type": "execute_result"
    }
   ],
   "source": [
    "data = pd.read_parquet(final_path)\n",
    "data[data['FIPS'].isna()]"
   ]
  },
  {
   "cell_type": "code",
   "execution_count": 5,
   "metadata": {},
   "outputs": [
    {
     "data": {
      "text/html": [
       "<div>\n",
       "<style scoped>\n",
       "    .dataframe tbody tr th:only-of-type {\n",
       "        vertical-align: middle;\n",
       "    }\n",
       "\n",
       "    .dataframe tbody tr th {\n",
       "        vertical-align: top;\n",
       "    }\n",
       "\n",
       "    .dataframe thead th {\n",
       "        text-align: right;\n",
       "    }\n",
       "</style>\n",
       "<table border=\"1\" class=\"dataframe\">\n",
       "  <thead>\n",
       "    <tr style=\"text-align: right;\">\n",
       "      <th></th>\n",
       "      <th>BUYER_STATE</th>\n",
       "      <th>BUYER_COUNTY</th>\n",
       "      <th>TransactionYear</th>\n",
       "      <th>MME_Conversion_Factor</th>\n",
       "      <th>CALC_BASE_WT_IN_GM</th>\n",
       "      <th>morphine_equivalent_g</th>\n",
       "      <th>FIPS</th>\n",
       "    </tr>\n",
       "  </thead>\n",
       "  <tbody>\n",
       "    <tr>\n",
       "      <th>773</th>\n",
       "      <td>OH</td>\n",
       "      <td>TRUMBULL</td>\n",
       "      <td>2009</td>\n",
       "      <td>35587.5</td>\n",
       "      <td>116304.262428</td>\n",
       "      <td>155493.615926</td>\n",
       "      <td>39155</td>\n",
       "    </tr>\n",
       "    <tr>\n",
       "      <th>722</th>\n",
       "      <td>OH</td>\n",
       "      <td>SCIOTO</td>\n",
       "      <td>2008</td>\n",
       "      <td>13794.5</td>\n",
       "      <td>60606.743637</td>\n",
       "      <td>84469.038431</td>\n",
       "      <td>39145</td>\n",
       "    </tr>\n",
       "    <tr>\n",
       "      <th>674</th>\n",
       "      <td>OH</td>\n",
       "      <td>PREBLE</td>\n",
       "      <td>2010</td>\n",
       "      <td>6264.5</td>\n",
       "      <td>11520.121608</td>\n",
       "      <td>14578.509237</td>\n",
       "      <td>39135</td>\n",
       "    </tr>\n",
       "    <tr>\n",
       "      <th>781</th>\n",
       "      <td>OH</td>\n",
       "      <td>TUSCARAWAS</td>\n",
       "      <td>2007</td>\n",
       "      <td>7179.5</td>\n",
       "      <td>15425.592095</td>\n",
       "      <td>19818.692378</td>\n",
       "      <td>39157</td>\n",
       "    </tr>\n",
       "    <tr>\n",
       "      <th>592</th>\n",
       "      <td>OH</td>\n",
       "      <td>MUSKINGUM</td>\n",
       "      <td>2008</td>\n",
       "      <td>11529.5</td>\n",
       "      <td>27462.685640</td>\n",
       "      <td>36161.035760</td>\n",
       "      <td>39119</td>\n",
       "    </tr>\n",
       "  </tbody>\n",
       "</table>\n",
       "</div>"
      ],
      "text/plain": [
       "    BUYER_STATE BUYER_COUNTY  TransactionYear  MME_Conversion_Factor  \\\n",
       "773          OH     TRUMBULL             2009                35587.5   \n",
       "722          OH       SCIOTO             2008                13794.5   \n",
       "674          OH       PREBLE             2010                 6264.5   \n",
       "781          OH   TUSCARAWAS             2007                 7179.5   \n",
       "592          OH    MUSKINGUM             2008                11529.5   \n",
       "\n",
       "     CALC_BASE_WT_IN_GM  morphine_equivalent_g   FIPS  \n",
       "773       116304.262428          155493.615926  39155  \n",
       "722        60606.743637           84469.038431  39145  \n",
       "674        11520.121608           14578.509237  39135  \n",
       "781        15425.592095           19818.692378  39157  \n",
       "592        27462.685640           36161.035760  39119  "
      ]
     },
     "execution_count": 5,
     "metadata": {},
     "output_type": "execute_result"
    }
   ],
   "source": [
    "data.sample(5)"
   ]
  }
 ],
 "metadata": {
  "kernelspec": {
   "display_name": "base",
   "language": "python",
   "name": "python3"
  },
  "language_info": {
   "codemirror_mode": {
    "name": "ipython",
    "version": 3
   },
   "file_extension": ".py",
   "mimetype": "text/x-python",
   "name": "python",
   "nbconvert_exporter": "python",
   "pygments_lexer": "ipython3",
   "version": "3.11.5"
  }
 },
 "nbformat": 4,
 "nbformat_minor": 2
}
