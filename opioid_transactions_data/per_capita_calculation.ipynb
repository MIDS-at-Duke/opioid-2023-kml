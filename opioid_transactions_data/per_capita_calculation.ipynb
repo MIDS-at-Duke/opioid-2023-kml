{
 "cells": [
  {
   "cell_type": "code",
   "execution_count": 1,
   "metadata": {},
   "outputs": [],
   "source": [
    "import pandas as pd\n",
    "pd.set_option(\"display.max_columns\", None)"
   ]
  },
  {
   "cell_type": "code",
   "execution_count": 2,
   "metadata": {},
   "outputs": [],
   "source": [
    "state = 'ohio'"
   ]
  },
  {
   "cell_type": "code",
   "execution_count": 3,
   "metadata": {},
   "outputs": [],
   "source": [
    "pop = pd.read_csv('population.csv')\n",
    "state_path = '05_MME_Final/'+ state + '.parquet'\n",
    "state_MME = pd.read_parquet(state_path)"
   ]
  },
  {
   "cell_type": "code",
   "execution_count": 4,
   "metadata": {},
   "outputs": [
    {
     "name": "stdout",
     "output_type": "stream",
     "text": [
      "    BUYER_STATE BUYER_COUNTY  TransactionYear  MME_Conversion_Factor  \\\n",
      "511          OH       MEDINA             2007                13730.5   \n",
      "867          OH         WOOD             2013                11856.5   \n",
      "328          OH       HARDIN             2014                 3079.5   \n",
      "568          OH   MONTGOMERY             2014                66686.0   \n",
      "109          OH    CHAMPAIGN             2015                 3700.5   \n",
      "\n",
      "     CALC_BASE_WT_IN_GM  morphine_equivalent_g   FIPS county_population  \\\n",
      "511        34170.130602           45252.844291  39103            168775   \n",
      "867        21840.790405           29172.661972  39173            129073   \n",
      "328         6947.249978            9166.864541  39065             31780   \n",
      "568       157667.915169          201240.970289  39113            532708   \n",
      "109         8671.582278           11810.134377  39021             38976   \n",
      "\n",
      "    per_capita_MME_g  \n",
      "511         0.268125  \n",
      "867         0.226017  \n",
      "328         0.288448  \n",
      "568          0.37777  \n",
      "109          0.30301  \n"
     ]
    }
   ],
   "source": [
    "per_capita_MME = state_MME.copy()\n",
    "per_capita_MME['county_population'] = pd.NA\n",
    "per_capita_MME['per_capita_MME_g'] = pd.NA\n",
    "for index, row in state_MME.iterrows():\n",
    "    FIPS = row['FIPS']\n",
    "    year = row['TransactionYear']\n",
    "    target = pop[pop['FIPS'] == FIPS]\n",
    "    if len(target==1):\n",
    "        population = int(target[f'{year}'].values)\n",
    "        #print(population)\n",
    "        idx = per_capita_MME[(per_capita_MME['TransactionYear'] == year)&\n",
    "                                        (per_capita_MME['FIPS'] == FIPS)].index\n",
    "        per_capita_MME.loc[idx,'county_population'] = population\n",
    "    else:\n",
    "        print(f'Did not find data for FIPS: {FIPS}, year: {year}')\n",
    "\n",
    "per_capita_MME['per_capita_MME_g'] = per_capita_MME['morphine_equivalent_g'] / per_capita_MME['county_population']\n",
    "print(per_capita_MME.sample(5))\n",
    "assert per_capita_MME[per_capita_MME['per_capita_MME_g'].isna()].empty, 'There is missing per_capita_MME_g'\n",
    "assert per_capita_MME[per_capita_MME['county_population'].isna()].empty, 'There is missing county_population'"
   ]
  },
  {
   "cell_type": "code",
   "execution_count": 5,
   "metadata": {},
   "outputs": [],
   "source": [
    "# Step 4: Save the per capita dataframe back to a Parquet file\n",
    "final_path = '06_PerCapitaMME/' + state + '_PC.parquet'\n",
    "per_capita_MME.to_parquet(final_path)"
   ]
  }
 ],
 "metadata": {
  "kernelspec": {
   "display_name": "base",
   "language": "python",
   "name": "python3"
  },
  "language_info": {
   "codemirror_mode": {
    "name": "ipython",
    "version": 3
   },
   "file_extension": ".py",
   "mimetype": "text/x-python",
   "name": "python",
   "nbconvert_exporter": "python",
   "pygments_lexer": "ipython3",
   "version": "3.11.5"
  }
 },
 "nbformat": 4,
 "nbformat_minor": 2
}
