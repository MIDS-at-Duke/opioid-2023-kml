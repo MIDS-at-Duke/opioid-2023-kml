{
 "cells": [
  {
   "cell_type": "markdown",
   "metadata": {},
   "source": [
    "## Big Data Processing Using Dask\n",
    "\n",
    "The purpose of this file is to replicate the opioid transaction data processing using Dask distributed processing. The python code chunks below will perform the following steps:\n",
    "\n",
    "1. Read a 100Gb opioid transaction dataset\n",
    "2. Calculate the morphine equivalent for each shipment\n",
    "3. Filter for applicable states and years\n",
    "4. Convert dask computed results to a pandas dataframe\n",
    "5. Save dataframe as a parquet file\n",
    "\n",
    "*Note 1: This code requires the unzipped version of the opioid transaction data which exists in the local directory where this file is being run.*\n",
    "\n",
    "*Note 2: The code to create a parquet file (step 5) was written but not executed for this notebook. An equivalent parquet file was created earlier using pandas chunking.*"
   ]
  },
  {
   "cell_type": "code",
   "execution_count": 3,
   "metadata": {},
   "outputs": [],
   "source": [
    "# Import packages\n",
    "import pandas as pd\n",
    "from dask.distributed import Client\n",
    "import dask.dataframe as dd\n",
    "import pyarrow as pa\n",
    "import pyarrow.parquet as pq"
   ]
  },
  {
   "cell_type": "code",
   "execution_count": null,
   "metadata": {},
   "outputs": [],
   "source": [
    "# Print the number of cores available\n",
    "print(f\"There are {os.cpu_count()} logical cores available.\")\n",
    "\n",
    "# Instantiate Dask Client \n",
    "client = Client()\n",
    "client"
   ]
  },
  {
   "cell_type": "code",
   "execution_count": 5,
   "metadata": {},
   "outputs": [],
   "source": [
    "# Reload the data\n",
    "df = dd.read_csv(\n",
    "    \"arcos_all_washpost.tsv\",\n",
    "    delimiter='\\t',\n",
    "    dtype={\n",
    "        \"REPORTER_DEA_NO\": \"object\",\n",
    "        \"REPORTER_BUS_ACT\": \"object\",\n",
    "        \"REPORTER_NAME\": \"object\",\n",
    "        \"REPORTER_ADDL_CO_INFO\": \"object\",\n",
    "        \"REPORTER_ADDRESS1\": \"object\",\n",
    "        \"REPORTER_ADDRESS2\": \"object\",\n",
    "        \"REPORTER_CITY\": \"object\",\n",
    "        \"REPORTER_STATE\": \"object\",\n",
    "        \"REPORTER_ZIP\": \"object\",\n",
    "        \"REPORTER_COUNTY\": \"object\",\n",
    "        \"BUYER_DEA_NO\": \"object\",\n",
    "        \"BUYER_BUS_ACT\": \"object\",\n",
    "        \"BUYER_NAME\": \"object\",\n",
    "        \"BUYER_ADDL_CO_INFO\": \"object\",\n",
    "        \"BUYER_ADDRESS1\": \"object\",\n",
    "        \"BUYER_ADDRESS2\": \"object\",\n",
    "        \"BUYER_CITY\": \"object\",\n",
    "        \"BUYER_STATE\": \"object\",\n",
    "        \"BUYER_ZIP\": \"object\",\n",
    "        \"BUYER_COUNTY\": \"object\",\n",
    "        \"TRANSACTION_CODE\": \"object\",\n",
    "        \"DRUG_CODE\": \"object\",\n",
    "        \"NDC_NO\": \"object\",\n",
    "        \"DRUG_NAME\": \"object\",\n",
    "        \"Measure\": \"object\",\n",
    "        \"MME_Conversion_Factor\": \"float64\",\n",
    "        \"Dosage_Strength\": \"float64\",\n",
    "        \"TRANSACTION_DATE\": \"object\",\n",
    "        \"Combined_Labeler_Name\": \"object\",\n",
    "        \"Reporter_family\": \"object\",\n",
    "        \"CALC_BASE_WT_IN_GM\": \"float64\",\n",
    "        \"DOSAGE_UNIT\": \"float64\",\n",
    "        \"MME\": \"float64\",\n",
    "    },\n",
    ")"
   ]
  },
  {
   "cell_type": "code",
   "execution_count": null,
   "metadata": {},
   "outputs": [],
   "source": [
    "# Define states to process\n",
    "state_list = ['WA', 'FL', 'TX']\n",
    "\n",
    "# Convert MME and year to correct datatypes\n",
    "df[\"date\"] = dd.to_datetime(df.TRANSACTION_DATE, format=\"%Y-%m-%d\")\n",
    "df[\"year\"] = df.date.dt.year\n",
    "\n",
    "df[\"MME_Conversion_Factor\"] = dd.to_numeric(\n",
    "    df[\"MME_Conversion_Factor\"], errors=\"coerce\"\n",
    ")\n",
    "# Make an estimate of total morphine equivalent shipments\n",
    "df[\"morphine_equivalent_g\"] = (df[\"CALC_BASE_WT_IN_GM\"]) * df[\"MME_Conversion_Factor\"]\n",
    "\n",
    "# Drop extra variables\n",
    "reduced_df = df[[\"year\", \"morphine_equivalent_g\", \"BUYER_STATE\", \"BUYER_COUNTY\"]]\n",
    "\n",
    "# Filter to applicable states\n",
    "reduced_df = reduced_df[reduced_df['BUYER_STATE'].isin(state_list)]\n",
    "\n",
    "# Filter for applicable years (2003-2015)\n",
    "reduced_df = reduced_df[(reduced_df['year']>=2003)&\n",
    "                        (reduced_df['year']<=2015)]\n",
    "\n",
    "# Collapse to total shipments by each distributer.\n",
    "transactions_grouped = reduced_df.groupby(\n",
    "    [\"year\", \"BUYER_STATE\", \"BUYER_COUNTY\"]\n",
    ").morphine_equivalent_g.sum()\n",
    "\n",
    "# Print the Dask Series Structure if successful.\n",
    "print(transactions_grouped)\n",
    "\n",
    "# Generate the dask computed series\n",
    "transactions_processed = transactions_grouped.compute()"
   ]
  },
  {
   "cell_type": "code",
   "execution_count": null,
   "metadata": {},
   "outputs": [],
   "source": [
    "# Convert dask computed results to a pandas dataframe\n",
    "transactions_df = pd.DataFrame(transactions_processed)\n",
    "transactions_df = transactions_df.reset_index()\n",
    "\n",
    "# Specify the path where you want to save the Parquet file\n",
    "parquet_file_path = 'transactions_WA_FL_TX.parquet'\n",
    "\n",
    "# Convert the Pandas DataFrame to a PyArrow Table\n",
    "table = pa.Table.from_pandas(transactions_df)\n",
    "\n",
    "# Write the Table to a Parquet file\n",
    "pq.write_table(table, parquet_file_path)"
   ]
  }
 ],
 "metadata": {
  "kernelspec": {
   "display_name": "base",
   "language": "python",
   "name": "python3"
  },
  "language_info": {
   "codemirror_mode": {
    "name": "ipython",
    "version": 3
   },
   "file_extension": ".py",
   "mimetype": "text/x-python",
   "name": "python",
   "nbconvert_exporter": "python",
   "pygments_lexer": "ipython3",
   "version": "3.11.5"
  }
 },
 "nbformat": 4,
 "nbformat_minor": 2
}
