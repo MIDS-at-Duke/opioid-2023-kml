{
 "cells": [
  {
   "cell_type": "markdown",
   "metadata": {},
   "source": [
    "### Data Ingestion\n",
    "##### The data is saved on sharepoint as opioid_data_chunked.csv. Approximately 13Gb. "
   ]
  },
  {
   "cell_type": "code",
   "execution_count": null,
   "metadata": {},
   "outputs": [],
   "source": [
    "import pandas as pd"
   ]
  },
  {
   "cell_type": "code",
   "execution_count": null,
   "metadata": {},
   "outputs": [],
   "source": [
    "csv_chunk = pd.read_csv(\"arcos_all_washpost.tsv\", delimiter='\\t', chunksize=10000, low_memory=False)\n",
    "filtered_data = []\n",
    "for i, chunk in enumerate(csv_chunk):\n",
    "    append_chunk = chunk.loc[\n",
    "    (chunk['REPORTER_STATE'] == \"FL\")\n",
    "    | (chunk['REPORTER_STATE'] == \"TX\")\n",
    "    | (chunk['REPORTER_STATE'] == \"WA\")\n",
    "    ]\n",
    "    filtered_data.append(append_chunk)\n",
    "data_selected = pd.concat(filtered_data)"
   ]
  },
  {
   "cell_type": "code",
   "execution_count": null,
   "metadata": {},
   "outputs": [],
   "source": [
    "print(data_selected['REPORTER_STATE'].value_counts())"
   ]
  },
  {
   "cell_type": "code",
   "execution_count": null,
   "metadata": {},
   "outputs": [],
   "source": [
    "data_selected.to_csv('opioid_data_chunked.csv', index=False)"
   ]
  }
 ],
 "metadata": {
  "kernelspec": {
   "display_name": "base",
   "language": "python",
   "name": "python3"
  },
  "language_info": {
   "codemirror_mode": {
    "name": "ipython",
    "version": 3
   },
   "file_extension": ".py",
   "mimetype": "text/x-python",
   "name": "python",
   "nbconvert_exporter": "python",
   "pygments_lexer": "ipython3",
   "version": "3.11.4"
  }
 },
 "nbformat": 4,
 "nbformat_minor": 2
}
