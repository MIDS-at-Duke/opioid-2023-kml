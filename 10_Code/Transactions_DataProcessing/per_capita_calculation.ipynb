{
 "cells": [
  {
   "cell_type": "code",
   "execution_count": 61,
   "metadata": {},
   "outputs": [],
   "source": [
    "import pandas as pd\n",
    "pd.set_option(\"display.max_columns\", None)"
   ]
  },
  {
   "cell_type": "code",
   "execution_count": 62,
   "metadata": {},
   "outputs": [],
   "source": [
    "# loop through all states, or only generate the specified state\n",
    "# state = 'ohio'\n",
    "# state = 'florida'\n",
    "# state = 'kansas'\n",
    "# state = 'oregon'\n",
    "# state = 'tennessee'\n",
    "# state = 'illinois'\n",
    "# state = 'washington'\n",
    "# state = 'westvirginia'\n",
    "state = 'wyoming'"
   ]
  },
  {
   "cell_type": "code",
   "execution_count": 63,
   "metadata": {},
   "outputs": [
    {
     "name": "stdout",
     "output_type": "stream",
     "text": [
      "/Users/lisawang/MIDS/opioid-2023-kml/10_Code/Transactions_DataProcessing\n"
     ]
    }
   ],
   "source": [
    "#print current path\n",
    "import os\n",
    "print(os.getcwd())"
   ]
  },
  {
   "cell_type": "code",
   "execution_count": 64,
   "metadata": {},
   "outputs": [],
   "source": [
    "pop = pd.read_csv('../../00_Data/Population_Data/population.csv')\n",
    "state_path = '../../00_Data/Transaction_Data/05_MME_Final/'+ state + '.parquet'\n",
    "state_MME = pd.read_parquet(state_path)"
   ]
  },
  {
   "cell_type": "code",
   "execution_count": 65,
   "metadata": {},
   "outputs": [
    {
     "name": "stderr",
     "output_type": "stream",
     "text": [
      "/var/folders/y6/lmkfsrf92b3dqv2xcg6777lh0000gn/T/ipykernel_18147/2672912089.py:9: DeprecationWarning: Conversion of an array with ndim > 0 to a scalar is deprecated, and will error in future. Ensure you extract a single element from your array before performing this operation. (Deprecated NumPy 1.25.)\n",
      "  population = int(target[f'{year}'].values)\n"
     ]
    },
    {
     "name": "stdout",
     "output_type": "stream",
     "text": [
      "    BUYER_STATE BUYER_COUNTY  TransactionYear  MME_Conversion_Factor  \\\n",
      "99           WY      JOHNSON             2015                  904.0   \n",
      "127          WY      NATRONA             2013                11957.0   \n",
      "139          WY     NIOBRARA             2015                  257.0   \n",
      "24           WY     CAMPBELL             2010                 5559.5   \n",
      "187          WY   SWEETWATER             2013                 7435.5   \n",
      "\n",
      "     CALC_BASE_WT_IN_GM  morphine_equivalent_g   FIPS county_population  \\\n",
      "99          1516.774975            1954.603163  56019              8622   \n",
      "127        25310.067842           32953.782183  56025             81175   \n",
      "139          330.753005             383.086192  56027              2504   \n",
      "24          9703.763175           12378.739875  56005             46253   \n",
      "187        18566.892908           25476.868662  56037             45189   \n",
      "\n",
      "    per_capita_MME_mg  \n",
      "99         226.699509  \n",
      "127        405.959744  \n",
      "139        152.989693  \n",
      "24          267.63107  \n",
      "187        563.784741  \n"
     ]
    }
   ],
   "source": [
    "per_capita_MME = state_MME.copy()\n",
    "per_capita_MME['county_population'] = pd.NA\n",
    "per_capita_MME['per_capita_MME_mg'] = pd.NA\n",
    "for index, row in state_MME.iterrows():\n",
    "    FIPS = row['FIPS']\n",
    "    year = row['TransactionYear']\n",
    "    target = pop[pop['FIPS'] == FIPS]\n",
    "    if len(target==1):\n",
    "        population = int(target[f'{year}'].values)\n",
    "        #print(population)\n",
    "        idx = per_capita_MME[(per_capita_MME['TransactionYear'] == year)&\n",
    "                                        (per_capita_MME['FIPS'] == FIPS)].index\n",
    "        per_capita_MME.loc[idx,'county_population'] = population\n",
    "    else:\n",
    "        print(f'Did not find data for FIPS: {FIPS}, year: {year}')\n",
    "\n",
    "per_capita_MME['per_capita_MME_mg'] = per_capita_MME['morphine_equivalent_g'] / per_capita_MME['county_population'] * 1000\n",
    "print(per_capita_MME.sample(5))\n",
    "assert per_capita_MME[per_capita_MME['per_capita_MME_mg'].isna()].empty, 'There is missing per_capita_MME_mg'\n",
    "assert per_capita_MME[per_capita_MME['county_population'].isna()].empty, 'There is missing county_population'"
   ]
  },
  {
   "cell_type": "code",
   "execution_count": 66,
   "metadata": {},
   "outputs": [],
   "source": [
    "# Step 4: Save the per capita dataframe back to a Parquet file\n",
    "final_path = '../../00_Data/Transaction_Data/06_PerCapitaMME/' + state + '_PC.parquet'\n",
    "per_capita_MME.to_parquet(final_path)"
   ]
  }
 ],
 "metadata": {
  "kernelspec": {
   "display_name": "base",
   "language": "python",
   "name": "python3"
  },
  "language_info": {
   "codemirror_mode": {
    "name": "ipython",
    "version": 3
   },
   "file_extension": ".py",
   "mimetype": "text/x-python",
   "name": "python",
   "nbconvert_exporter": "python",
   "pygments_lexer": "ipython3",
   "version": "3.11.4"
  }
 },
 "nbformat": 4,
 "nbformat_minor": 2
}
